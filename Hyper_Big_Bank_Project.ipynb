{
  "nbformat": 4,
  "nbformat_minor": 0,
  "metadata": {
    "colab": {
      "name": "Hyper_Big_Bank_Project.ipynb",
      "provenance": [],
      "authorship_tag": "ABX9TyNiaCR2HAsaVPSoUYhwio5g",
      "include_colab_link": true
    },
    "kernelspec": {
      "name": "python3",
      "display_name": "Python 3"
    },
    "language_info": {
      "name": "python"
    }
  },
  "cells": [
    {
      "cell_type": "markdown",
      "metadata": {
        "id": "view-in-github",
        "colab_type": "text"
      },
      "source": [
        "<a href=\"https://colab.research.google.com/github/MmV0/Hyper-Big-Bank/blob/main/Hyper_Big_Bank_Project.ipynb\" target=\"_parent\"><img src=\"https://colab.research.google.com/assets/colab-badge.svg\" alt=\"Open In Colab\"/></a>"
      ]
    },
    {
      "cell_type": "code",
      "execution_count": 1,
      "metadata": {
        "id": "uo_1r6hoLu0r"
      },
      "outputs": [],
      "source": [
        "# Load libraries\n",
        "import pandas as pd\n",
        "from matplotlib import pyplot\n",
        "import matplotlib.pyplot as plt\n",
        "import numpy as np\n",
        "import seaborn as sns"
      ]
    },
    {
      "cell_type": "code",
      "source": [
        "# Load datasets\n",
        "df = pd.read_csv('DataFinal.csv')\n",
        "df = df.rename(columns = {\"PotentialBuyerHyperCrypto\" : \"target\"})\n",
        "df.head(5)"
      ],
      "metadata": {
        "id": "pHnteXqQN-GE",
        "colab": {
          "base_uri": "https://localhost:8080/",
          "height": 206
        },
        "outputId": "12f5c0d4-35cb-4ae3-de1d-2d6d9a841506"
      },
      "execution_count": 2,
      "outputs": [
        {
          "output_type": "execute_result",
          "data": {
            "text/plain": [
              "      Feat0  Feat1  Feat2 Feat3  Feat4  Feat5  Feat6  Feat7  Feat8  Feat9  \\\n",
              "0  0.275522      1   2.77     D   0.99    6.0     89      3     46      7   \n",
              "1  0.365429      1   4.75     D   0.64    3.0     81      2     27      7   \n",
              "2  0.284353      0   6.95     B   0.34    7.0     93      1     29      0   \n",
              "3  0.356867      1   2.87     D   0.80    5.0     39      3     61      7   \n",
              "4  0.462896      0   2.81     A   0.82    4.0      5      3     75      4   \n",
              "\n",
              "   Feat10  Feat11  target  \n",
              "0     468      10       0  \n",
              "1       4       1       1  \n",
              "2     933       7       0  \n",
              "3     254       2       0  \n",
              "4     805       7       0  "
            ],
            "text/html": [
              "\n",
              "  <div id=\"df-f7ee972a-8ef3-4a0f-be6a-74552b9d4ba5\">\n",
              "    <div class=\"colab-df-container\">\n",
              "      <div>\n",
              "<style scoped>\n",
              "    .dataframe tbody tr th:only-of-type {\n",
              "        vertical-align: middle;\n",
              "    }\n",
              "\n",
              "    .dataframe tbody tr th {\n",
              "        vertical-align: top;\n",
              "    }\n",
              "\n",
              "    .dataframe thead th {\n",
              "        text-align: right;\n",
              "    }\n",
              "</style>\n",
              "<table border=\"1\" class=\"dataframe\">\n",
              "  <thead>\n",
              "    <tr style=\"text-align: right;\">\n",
              "      <th></th>\n",
              "      <th>Feat0</th>\n",
              "      <th>Feat1</th>\n",
              "      <th>Feat2</th>\n",
              "      <th>Feat3</th>\n",
              "      <th>Feat4</th>\n",
              "      <th>Feat5</th>\n",
              "      <th>Feat6</th>\n",
              "      <th>Feat7</th>\n",
              "      <th>Feat8</th>\n",
              "      <th>Feat9</th>\n",
              "      <th>Feat10</th>\n",
              "      <th>Feat11</th>\n",
              "      <th>target</th>\n",
              "    </tr>\n",
              "  </thead>\n",
              "  <tbody>\n",
              "    <tr>\n",
              "      <th>0</th>\n",
              "      <td>0.275522</td>\n",
              "      <td>1</td>\n",
              "      <td>2.77</td>\n",
              "      <td>D</td>\n",
              "      <td>0.99</td>\n",
              "      <td>6.0</td>\n",
              "      <td>89</td>\n",
              "      <td>3</td>\n",
              "      <td>46</td>\n",
              "      <td>7</td>\n",
              "      <td>468</td>\n",
              "      <td>10</td>\n",
              "      <td>0</td>\n",
              "    </tr>\n",
              "    <tr>\n",
              "      <th>1</th>\n",
              "      <td>0.365429</td>\n",
              "      <td>1</td>\n",
              "      <td>4.75</td>\n",
              "      <td>D</td>\n",
              "      <td>0.64</td>\n",
              "      <td>3.0</td>\n",
              "      <td>81</td>\n",
              "      <td>2</td>\n",
              "      <td>27</td>\n",
              "      <td>7</td>\n",
              "      <td>4</td>\n",
              "      <td>1</td>\n",
              "      <td>1</td>\n",
              "    </tr>\n",
              "    <tr>\n",
              "      <th>2</th>\n",
              "      <td>0.284353</td>\n",
              "      <td>0</td>\n",
              "      <td>6.95</td>\n",
              "      <td>B</td>\n",
              "      <td>0.34</td>\n",
              "      <td>7.0</td>\n",
              "      <td>93</td>\n",
              "      <td>1</td>\n",
              "      <td>29</td>\n",
              "      <td>0</td>\n",
              "      <td>933</td>\n",
              "      <td>7</td>\n",
              "      <td>0</td>\n",
              "    </tr>\n",
              "    <tr>\n",
              "      <th>3</th>\n",
              "      <td>0.356867</td>\n",
              "      <td>1</td>\n",
              "      <td>2.87</td>\n",
              "      <td>D</td>\n",
              "      <td>0.80</td>\n",
              "      <td>5.0</td>\n",
              "      <td>39</td>\n",
              "      <td>3</td>\n",
              "      <td>61</td>\n",
              "      <td>7</td>\n",
              "      <td>254</td>\n",
              "      <td>2</td>\n",
              "      <td>0</td>\n",
              "    </tr>\n",
              "    <tr>\n",
              "      <th>4</th>\n",
              "      <td>0.462896</td>\n",
              "      <td>0</td>\n",
              "      <td>2.81</td>\n",
              "      <td>A</td>\n",
              "      <td>0.82</td>\n",
              "      <td>4.0</td>\n",
              "      <td>5</td>\n",
              "      <td>3</td>\n",
              "      <td>75</td>\n",
              "      <td>4</td>\n",
              "      <td>805</td>\n",
              "      <td>7</td>\n",
              "      <td>0</td>\n",
              "    </tr>\n",
              "  </tbody>\n",
              "</table>\n",
              "</div>\n",
              "      <button class=\"colab-df-convert\" onclick=\"convertToInteractive('df-f7ee972a-8ef3-4a0f-be6a-74552b9d4ba5')\"\n",
              "              title=\"Convert this dataframe to an interactive table.\"\n",
              "              style=\"display:none;\">\n",
              "        \n",
              "  <svg xmlns=\"http://www.w3.org/2000/svg\" height=\"24px\"viewBox=\"0 0 24 24\"\n",
              "       width=\"24px\">\n",
              "    <path d=\"M0 0h24v24H0V0z\" fill=\"none\"/>\n",
              "    <path d=\"M18.56 5.44l.94 2.06.94-2.06 2.06-.94-2.06-.94-.94-2.06-.94 2.06-2.06.94zm-11 1L8.5 8.5l.94-2.06 2.06-.94-2.06-.94L8.5 2.5l-.94 2.06-2.06.94zm10 10l.94 2.06.94-2.06 2.06-.94-2.06-.94-.94-2.06-.94 2.06-2.06.94z\"/><path d=\"M17.41 7.96l-1.37-1.37c-.4-.4-.92-.59-1.43-.59-.52 0-1.04.2-1.43.59L10.3 9.45l-7.72 7.72c-.78.78-.78 2.05 0 2.83L4 21.41c.39.39.9.59 1.41.59.51 0 1.02-.2 1.41-.59l7.78-7.78 2.81-2.81c.8-.78.8-2.07 0-2.86zM5.41 20L4 18.59l7.72-7.72 1.47 1.35L5.41 20z\"/>\n",
              "  </svg>\n",
              "      </button>\n",
              "      \n",
              "  <style>\n",
              "    .colab-df-container {\n",
              "      display:flex;\n",
              "      flex-wrap:wrap;\n",
              "      gap: 12px;\n",
              "    }\n",
              "\n",
              "    .colab-df-convert {\n",
              "      background-color: #E8F0FE;\n",
              "      border: none;\n",
              "      border-radius: 50%;\n",
              "      cursor: pointer;\n",
              "      display: none;\n",
              "      fill: #1967D2;\n",
              "      height: 32px;\n",
              "      padding: 0 0 0 0;\n",
              "      width: 32px;\n",
              "    }\n",
              "\n",
              "    .colab-df-convert:hover {\n",
              "      background-color: #E2EBFA;\n",
              "      box-shadow: 0px 1px 2px rgba(60, 64, 67, 0.3), 0px 1px 3px 1px rgba(60, 64, 67, 0.15);\n",
              "      fill: #174EA6;\n",
              "    }\n",
              "\n",
              "    [theme=dark] .colab-df-convert {\n",
              "      background-color: #3B4455;\n",
              "      fill: #D2E3FC;\n",
              "    }\n",
              "\n",
              "    [theme=dark] .colab-df-convert:hover {\n",
              "      background-color: #434B5C;\n",
              "      box-shadow: 0px 1px 3px 1px rgba(0, 0, 0, 0.15);\n",
              "      filter: drop-shadow(0px 1px 2px rgba(0, 0, 0, 0.3));\n",
              "      fill: #FFFFFF;\n",
              "    }\n",
              "  </style>\n",
              "\n",
              "      <script>\n",
              "        const buttonEl =\n",
              "          document.querySelector('#df-f7ee972a-8ef3-4a0f-be6a-74552b9d4ba5 button.colab-df-convert');\n",
              "        buttonEl.style.display =\n",
              "          google.colab.kernel.accessAllowed ? 'block' : 'none';\n",
              "\n",
              "        async function convertToInteractive(key) {\n",
              "          const element = document.querySelector('#df-f7ee972a-8ef3-4a0f-be6a-74552b9d4ba5');\n",
              "          const dataTable =\n",
              "            await google.colab.kernel.invokeFunction('convertToInteractive',\n",
              "                                                     [key], {});\n",
              "          if (!dataTable) return;\n",
              "\n",
              "          const docLinkHtml = 'Like what you see? Visit the ' +\n",
              "            '<a target=\"_blank\" href=https://colab.research.google.com/notebooks/data_table.ipynb>data table notebook</a>'\n",
              "            + ' to learn more about interactive tables.';\n",
              "          element.innerHTML = '';\n",
              "          dataTable['output_type'] = 'display_data';\n",
              "          await google.colab.output.renderOutput(dataTable, element);\n",
              "          const docLink = document.createElement('div');\n",
              "          docLink.innerHTML = docLinkHtml;\n",
              "          element.appendChild(docLink);\n",
              "        }\n",
              "      </script>\n",
              "    </div>\n",
              "  </div>\n",
              "  "
            ]
          },
          "metadata": {},
          "execution_count": 2
        }
      ]
    },
    {
      "cell_type": "markdown",
      "source": [
        "##**Data Preprocessing**"
      ],
      "metadata": {
        "id": "UklWhOuIZRkn"
      }
    },
    {
      "cell_type": "markdown",
      "source": [
        "####**Dealing with Missing Values**\n"
      ],
      "metadata": {
        "id": "TfJY7lFsbhk5"
      }
    },
    {
      "cell_type": "code",
      "source": [
        "# Distribution of Feature 5\n",
        "df.groupby('Feat5', dropna=False).size()"
      ],
      "metadata": {
        "colab": {
          "base_uri": "https://localhost:8080/"
        },
        "id": "fd523ULVd1OD",
        "outputId": "8c3e1af4-d23b-4881-d2c0-7754eb72aebb"
      },
      "execution_count": 3,
      "outputs": [
        {
          "output_type": "execute_result",
          "data": {
            "text/plain": [
              "Feat5\n",
              "0.0      70\n",
              "1.0     149\n",
              "2.0     137\n",
              "3.0     136\n",
              "4.0     140\n",
              "5.0     155\n",
              "6.0     152\n",
              "7.0     143\n",
              "8.0     154\n",
              "9.0     130\n",
              "10.0     77\n",
              "NaN      57\n",
              "dtype: int64"
            ]
          },
          "metadata": {},
          "execution_count": 3
        }
      ]
    },
    {
      "cell_type": "code",
      "source": [
        "df[df['Feat5'].isna()].groupby('target').size()"
      ],
      "metadata": {
        "colab": {
          "base_uri": "https://localhost:8080/"
        },
        "id": "Mn-UtN4jX1Om",
        "outputId": "4eaac358-1653-4e41-f25f-586e41b32ee1"
      },
      "execution_count": 4,
      "outputs": [
        {
          "output_type": "execute_result",
          "data": {
            "text/plain": [
              "target\n",
              "0    43\n",
              "1    14\n",
              "dtype: int64"
            ]
          },
          "metadata": {},
          "execution_count": 4
        }
      ]
    },
    {
      "cell_type": "code",
      "source": [
        "# Drop missing values\n",
        "df = df.dropna()\n",
        "# Plot new distribution\n",
        "df.groupby('Feat5', dropna=False).size()"
      ],
      "metadata": {
        "id": "loA_rz4KgXb2",
        "colab": {
          "base_uri": "https://localhost:8080/"
        },
        "outputId": "fb4e6ddf-f955-4d9d-96de-27072627b7c4"
      },
      "execution_count": 5,
      "outputs": [
        {
          "output_type": "execute_result",
          "data": {
            "text/plain": [
              "Feat5\n",
              "0.0      70\n",
              "1.0     149\n",
              "2.0     137\n",
              "3.0     136\n",
              "4.0     140\n",
              "5.0     155\n",
              "6.0     152\n",
              "7.0     143\n",
              "8.0     154\n",
              "9.0     130\n",
              "10.0     77\n",
              "dtype: int64"
            ]
          },
          "metadata": {},
          "execution_count": 5
        }
      ]
    },
    {
      "cell_type": "markdown",
      "source": [
        "####**Dealing with outliers**\n"
      ],
      "metadata": {
        "id": "7Io_HOqxtZqN"
      }
    },
    {
      "cell_type": "code",
      "source": [
        "df_s = df.drop(['Feat3'], axis=1)"
      ],
      "metadata": {
        "id": "Ou71EB-KJOr7"
      },
      "execution_count": 6,
      "outputs": []
    },
    {
      "cell_type": "code",
      "source": [
        "# Remove some warnings\n",
        "import warnings\n",
        "warnings.filterwarnings('ignore')\n",
        "\n",
        "# Check outliners\n",
        "fig, ax = plt.subplots(3, 4, figsize=(20, 10))\n",
        "\n",
        "for i in range(ax.shape[0]):\n",
        "    for j in range(ax.shape[1]):\n",
        "        sns.boxplot(df_s[df_s.columns[i*4+j]], ax=ax[i][j])"
      ],
      "metadata": {
        "colab": {
          "base_uri": "https://localhost:8080/",
          "height": 0
        },
        "id": "5w5M9G9NpvQL",
        "outputId": "bfec9ad0-2cf6-45e2-cf7a-7d205ab938aa"
      },
      "execution_count": 7,
      "outputs": [
        {
          "output_type": "display_data",
          "data": {
            "text/plain": [
              "<Figure size 1440x720 with 12 Axes>"
            ],
            "image/png": "[encoded data removed]"
          },
          "metadata": {
            "needs_background": "light"
          }
        }
      ]
    },
    {
      "cell_type": "code",
      "source": [
        "# Outlier Detection and Treatment using 1.5 IQR rule\n",
        "def outlier_treatment(datacolumn):\n",
        " sorted(datacolumn)\n",
        " Q1,Q3 = np.percentile(datacolumn , [25,75])\n",
        " IQR = Q3 - Q1\n",
        " lower_range = Q1 - (1.5 * IQR)\n",
        " upper_range = Q3 + (1.5 * IQR)\n",
        " return lower_range,upper_range"
      ],
      "metadata": {
        "id": "14sn7QzKoaDU"
      },
      "execution_count": 8,
      "outputs": []
    },
    {
      "cell_type": "code",
      "source": [
        "# Using the above function, lets get the lowerbound and upperbound values\n",
        "lowerbound,upperbound = outlier_treatment(df.Feat7)\n",
        "# Lets check which rows is considered as an outlier in acordance with Feat7\n",
        "df[(df.Feat7 < lowerbound) | (df.Feat7 > upperbound)]"
      ],
      "metadata": {
        "colab": {
          "base_uri": "https://localhost:8080/",
          "height": 0
        },
        "id": "N_AkjMPXoqKQ",
        "outputId": "e5a01e1d-63c9-433b-934e-76e6fc14d97c"
      },
      "execution_count": 9,
      "outputs": [
        {
          "output_type": "execute_result",
          "data": {
            "text/plain": [
              "         Feat0  Feat1  Feat2 Feat3  Feat4  Feat5  Feat6  Feat7  Feat8  Feat9  \\\n",
              "83    0.041872      1   0.95     D   0.14    9.0     37   9999     60      3   \n",
              "90    0.922217      1   1.85     A   0.65    5.0     50   9999     36      1   \n",
              "94    0.936203      1   4.88     A   0.54    4.0     80   9999     79      4   \n",
              "129   0.040768      0   2.39     B   0.35    2.0     13   9999     84      5   \n",
              "229   0.180866      1   8.64     B   0.97    1.0      0   9999     74      6   \n",
              "304   0.904927      1   0.63     A   0.81    3.0     23   9999     98      3   \n",
              "330   0.776253      1   4.68     A   0.16    9.0     70   9999     89      7   \n",
              "383   0.270473      0   1.30     B   0.69    4.0     66   9999     66      2   \n",
              "385   0.216949      1   8.82     D   0.96    2.0     88   9999     28      3   \n",
              "413   0.790412      1   8.79     D   0.67    7.0     18   9999     88      2   \n",
              "446   0.589436      1   6.72     D   0.78    3.0     11   9999     95      1   \n",
              "519   0.755735      1   2.46     D   0.91    4.0     24   9999     62      6   \n",
              "528   0.472256      0   5.17     D   0.05    3.0     33   9999      2      6   \n",
              "553   0.806236      1   6.92     D   0.55    0.0     98   9999     54      7   \n",
              "554   0.690686      0   5.06     B   0.26    4.0     10   9999     95      1   \n",
              "563   0.460214      0   0.63     B   0.89    6.0     40   9999     36      2   \n",
              "564   0.809172      1   5.82     D   0.98    3.0     37   9999     83      7   \n",
              "618   0.652673      1   8.31     D   0.33    2.0     20   9999     46      5   \n",
              "754   0.585087      1   7.33     D   0.94    1.0     96   9999     95      6   \n",
              "825   0.410465      1   6.85     A   0.60    2.0     12   9999     47      4   \n",
              "872   0.314373      0   6.73     D   0.03    9.0     31   9999     89      7   \n",
              "876   0.073290      1   0.11     B   0.12    9.0     87   9999     72      3   \n",
              "962   0.141849      0   8.56     A   0.74    7.0     68   9999     33      5   \n",
              "965   0.303254      0   9.30     D   0.66    5.0     46   9999     67      5   \n",
              "969   0.078479      0   8.90     A   0.12    8.0     62   9999     11      4   \n",
              "977   0.816134      0   7.42     D   0.79    9.0     75   9999     55      5   \n",
              "994   0.888711      0   8.73     A   0.45    8.0     19   9999     92      3   \n",
              "996   0.501754      1   7.74     D   0.62    0.0     34   9999     53      3   \n",
              "1004  0.206102      1   5.43     D   0.83    6.0     21   9999    100      0   \n",
              "1007  0.212351      1   0.76     D   0.65    8.0     81   9999     87      6   \n",
              "1026  0.571060      0   6.79     D   0.24    2.0     56   9999     80      2   \n",
              "1058  0.071849      1   8.98     A   0.04    5.0     44   9999     60      3   \n",
              "1067  0.229043      1   8.58     B   0.87    8.0      0   9999     88      0   \n",
              "1091  0.551760      0   6.27     A   0.21    4.0     89   9999     74      1   \n",
              "1140  0.916080      0   0.74     A   0.32    7.0      2   9999     37      1   \n",
              "1155  0.022473      0   7.47     D   0.05    6.0     47   9999     45      3   \n",
              "1200  0.365479      1   5.08     D   0.44    6.0     21   9999     18      3   \n",
              "1244  0.792427      1   6.81     A   0.50    9.0     52   9999     33      4   \n",
              "1451  0.134296      1   7.58     D   0.81    4.0     95   9999     82      2   \n",
              "\n",
              "      Feat10  Feat11  target  \n",
              "83       180       9       0  \n",
              "90       905       3       0  \n",
              "94       801       9       0  \n",
              "129      418       0       0  \n",
              "229      764       4       0  \n",
              "304       66       8       0  \n",
              "330      192       6       0  \n",
              "383      494       4       0  \n",
              "385      927       4       0  \n",
              "413      200      10       0  \n",
              "446       33       2       1  \n",
              "519      773      10       0  \n",
              "528      231       8       0  \n",
              "553      646       6       0  \n",
              "554       67       3       1  \n",
              "563      463      10       0  \n",
              "564      703      10       0  \n",
              "618      254       3       0  \n",
              "754      574       9       0  \n",
              "825      555       6       0  \n",
              "872      353       5       1  \n",
              "876      759       0       0  \n",
              "962      445       3       0  \n",
              "965      828       9       0  \n",
              "969      145       8       0  \n",
              "977      849       5       0  \n",
              "994      434       6       0  \n",
              "996      160       7       0  \n",
              "1004     844       3       1  \n",
              "1007     970       4       0  \n",
              "1026     558       4       0  \n",
              "1058     413       4       1  \n",
              "1067     787       9       0  \n",
              "1091     178       0       0  \n",
              "1140     965       8       0  \n",
              "1155     907       5       1  \n",
              "1200     735       0       0  \n",
              "1244     927       8       0  \n",
              "1451     144      10       0  "
            ],
            "text/html": [
              "\n",
              "  <div id=\"df-ae702544-18e2-41a2-96c1-2018b7d89ffd\">\n",
              "    <div class=\"colab-df-container\">\n",
              "      <div>\n",
              "<style scoped>\n",
              "    .dataframe tbody tr th:only-of-type {\n",
              "        vertical-align: middle;\n",
              "    }\n",
              "\n",
              "    .dataframe tbody tr th {\n",
              "        vertical-align: top;\n",
              "    }\n",
              "\n",
              "    .dataframe thead th {\n",
              "        text-align: right;\n",
              "    }\n",
              "</style>\n",
              "<table border=\"1\" class=\"dataframe\">\n",
              "  <thead>\n",
              "    <tr style=\"text-align: right;\">\n",
              "      <th></th>\n",
              "      <th>Feat0</th>\n",
              "      <th>Feat1</th>\n",
              "      <th>Feat2</th>\n",
              "      <th>Feat3</th>\n",
              "      <th>Feat4</th>\n",
              "      <th>Feat5</th>\n",
              "      <th>Feat6</th>\n",
              "      <th>Feat7</th>\n",
              "      <th>Feat8</th>\n",
              "      <th>Feat9</th>\n",
              "      <th>Feat10</th>\n",
              "      <th>Feat11</th>\n",
              "      <th>target</th>\n",
              "    </tr>\n",
              "  </thead>\n",
              "  <tbody>\n",
              "    <tr>\n",
              "      <th>83</th>\n",
              "      <td>0.041872</td>\n",
              "      <td>1</td>\n",
              "      <td>0.95</td>\n",
              "      <td>D</td>\n",
              "      <td>0.14</td>\n",
              "      <td>9.0</td>\n",
              "      <td>37</td>\n",
              "      <td>9999</td>\n",
              "      <td>60</td>\n",
              "      <td>3</td>\n",
              "      <td>180</td>\n",
              "      <td>9</td>\n",
              "      <td>0</td>\n",
              "    </tr>\n",
              "    <tr>\n",
              "      <th>90</th>\n",
              "      <td>0.922217</td>\n",
              "      <td>1</td>\n",
              "      <td>1.85</td>\n",
              "      <td>A</td>\n",
              "      <td>0.65</td>\n",
              "      <td>5.0</td>\n",
              "      <td>50</td>\n",
              "      <td>9999</td>\n",
              "      <td>36</td>\n",
              "      <td>1</td>\n",
              "      <td>905</td>\n",
              "      <td>3</td>\n",
              "      <td>0</td>\n",
              "    </tr>\n",
              "    <tr>\n",
              "      <th>94</th>\n",
              "      <td>0.936203</td>\n",
              "      <td>1</td>\n",
              "      <td>4.88</td>\n",
              "      <td>A</td>\n",
              "      <td>0.54</td>\n",
              "      <td>4.0</td>\n",
              "      <td>80</td>\n",
              "      <td>9999</td>\n",
              "      <td>79</td>\n",
              "      <td>4</td>\n",
              "      <td>801</td>\n",
              "      <td>9</td>\n",
              "      <td>0</td>\n",
              "    </tr>\n",
              "    <tr>\n",
              "      <th>129</th>\n",
              "      <td>0.040768</td>\n",
              "      <td>0</td>\n",
              "      <td>2.39</td>\n",
              "      <td>B</td>\n",
              "      <td>0.35</td>\n",
              "      <td>2.0</td>\n",
              "      <td>13</td>\n",
              "      <td>9999</td>\n",
              "      <td>84</td>\n",
              "      <td>5</td>\n",
              "      <td>418</td>\n",
              "      <td>0</td>\n",
              "      <td>0</td>\n",
              "    </tr>\n",
              "    <tr>\n",
              "      <th>229</th>\n",
              "      <td>0.180866</td>\n",
              "      <td>1</td>\n",
              "      <td>8.64</td>\n",
              "      <td>B</td>\n",
              "      <td>0.97</td>\n",
              "      <td>1.0</td>\n",
              "      <td>0</td>\n",
              "      <td>9999</td>\n",
              "      <td>74</td>\n",
              "      <td>6</td>\n",
              "      <td>764</td>\n",
              "      <td>4</td>\n",
              "      <td>0</td>\n",
              "    </tr>\n",
              "    <tr>\n",
              "      <th>304</th>\n",
              "      <td>0.904927</td>\n",
              "      <td>1</td>\n",
              "      <td>0.63</td>\n",
              "      <td>A</td>\n",
              "      <td>0.81</td>\n",
              "      <td>3.0</td>\n",
              "      <td>23</td>\n",
              "      <td>9999</td>\n",
              "      <td>98</td>\n",
              "      <td>3</td>\n",
              "      <td>66</td>\n",
              "      <td>8</td>\n",
              "      <td>0</td>\n",
              "    </tr>\n",
              "    <tr>\n",
              "      <th>330</th>\n",
              "      <td>0.776253</td>\n",
              "      <td>1</td>\n",
              "      <td>4.68</td>\n",
              "      <td>A</td>\n",
              "      <td>0.16</td>\n",
              "      <td>9.0</td>\n",
              "      <td>70</td>\n",
              "      <td>9999</td>\n",
              "      <td>89</td>\n",
              "      <td>7</td>\n",
              "      <td>192</td>\n",
              "      <td>6</td>\n",
              "      <td>0</td>\n",
              "    </tr>\n",
              "    <tr>\n",
              "      <th>383</th>\n",
              "      <td>0.270473</td>\n",
              "      <td>0</td>\n",
              "      <td>1.30</td>\n",
              "      <td>B</td>\n",
              "      <td>0.69</td>\n",
              "      <td>4.0</td>\n",
              "      <td>66</td>\n",
              "      <td>9999</td>\n",
              "      <td>66</td>\n",
              "      <td>2</td>\n",
              "      <td>494</td>\n",
              "      <td>4</td>\n",
              "      <td>0</td>\n",
              "    </tr>\n",
              "    <tr>\n",
              "      <th>385</th>\n",
              "      <td>0.216949</td>\n",
              "      <td>1</td>\n",
              "      <td>8.82</td>\n",
              "      <td>D</td>\n",
              "      <td>0.96</td>\n",
              "      <td>2.0</td>\n",
              "      <td>88</td>\n",
              "      <td>9999</td>\n",
              "      <td>28</td>\n",
              "      <td>3</td>\n",
              "      <td>927</td>\n",
              "      <td>4</td>\n",
              "      <td>0</td>\n",
              "    </tr>\n",
              "    <tr>\n",
              "      <th>413</th>\n",
              "      <td>0.790412</td>\n",
              "      <td>1</td>\n",
              "      <td>8.79</td>\n",
              "      <td>D</td>\n",
              "      <td>0.67</td>\n",
              "      <td>7.0</td>\n",
              "      <td>18</td>\n",
              "      <td>9999</td>\n",
              "      <td>88</td>\n",
              "      <td>2</td>\n",
              "      <td>200</td>\n",
              "      <td>10</td>\n",
              "      <td>0</td>\n",
              "    </tr>\n",
              "    <tr>\n",
              "      <th>446</th>\n",
              "      <td>0.589436</td>\n",
              "      <td>1</td>\n",
              "      <td>6.72</td>\n",
              "      <td>D</td>\n",
              "      <td>0.78</td>\n",
              "      <td>3.0</td>\n",
              "      <td>11</td>\n",
              "      <td>9999</td>\n",
              "      <td>95</td>\n",
              "      <td>1</td>\n",
              "      <td>33</td>\n",
              "      <td>2</td>\n",
              "      <td>1</td>\n",
              "    </tr>\n",
              "    <tr>\n",
              "      <th>519</th>\n",
              "      <td>0.755735</td>\n",
              "      <td>1</td>\n",
              "      <td>2.46</td>\n",
              "      <td>D</td>\n",
              "      <td>0.91</td>\n",
              "      <td>4.0</td>\n",
              "      <td>24</td>\n",
              "      <td>9999</td>\n",
              "      <td>62</td>\n",
              "      <td>6</td>\n",
              "      <td>773</td>\n",
              "      <td>10</td>\n",
              "      <td>0</td>\n",
              "    </tr>\n",
              "    <tr>\n",
              "      <th>528</th>\n",
              "      <td>0.472256</td>\n",
              "      <td>0</td>\n",
              "      <td>5.17</td>\n",
              "      <td>D</td>\n",
              "      <td>0.05</td>\n",
              "      <td>3.0</td>\n",
              "      <td>33</td>\n",
              "      <td>9999</td>\n",
              "      <td>2</td>\n",
              "      <td>6</td>\n",
              "      <td>231</td>\n",
              "      <td>8</td>\n",
              "      <td>0</td>\n",
              "    </tr>\n",
              "    <tr>\n",
              "      <th>553</th>\n",
              "      <td>0.806236</td>\n",
              "      <td>1</td>\n",
              "      <td>6.92</td>\n",
              "      <td>D</td>\n",
              "      <td>0.55</td>\n",
              "      <td>0.0</td>\n",
              "      <td>98</td>\n",
              "      <td>9999</td>\n",
              "      <td>54</td>\n",
              "      <td>7</td>\n",
              "      <td>646</td>\n",
              "      <td>6</td>\n",
              "      <td>0</td>\n",
              "    </tr>\n",
              "    <tr>\n",
              "      <th>554</th>\n",
              "      <td>0.690686</td>\n",
              "      <td>0</td>\n",
              "      <td>5.06</td>\n",
              "      <td>B</td>\n",
              "      <td>0.26</td>\n",
              "      <td>4.0</td>\n",
              "      <td>10</td>\n",
              "      <td>9999</td>\n",
              "      <td>95</td>\n",
              "      <td>1</td>\n",
              "      <td>67</td>\n",
              "      <td>3</td>\n",
              "      <td>1</td>\n",
              "    </tr>\n",
              "    <tr>\n",
              "      <th>563</th>\n",
              "      <td>0.460214</td>\n",
              "      <td>0</td>\n",
              "      <td>0.63</td>\n",
              "      <td>B</td>\n",
              "      <td>0.89</td>\n",
              "      <td>6.0</td>\n",
              "      <td>40</td>\n",
              "      <td>9999</td>\n",
              "      <td>36</td>\n",
              "      <td>2</td>\n",
              "      <td>463</td>\n",
              "      <td>10</td>\n",
              "      <td>0</td>\n",
              "    </tr>\n",
              "    <tr>\n",
              "      <th>564</th>\n",
              "      <td>0.809172</td>\n",
              "      <td>1</td>\n",
              "      <td>5.82</td>\n",
              "      <td>D</td>\n",
              "      <td>0.98</td>\n",
              "      <td>3.0</td>\n",
              "      <td>37</td>\n",
              "      <td>9999</td>\n",
              "      <td>83</td>\n",
              "      <td>7</td>\n",
              "      <td>703</td>\n",
              "      <td>10</td>\n",
              "      <td>0</td>\n",
              "    </tr>\n",
              "    <tr>\n",
              "      <th>618</th>\n",
              "      <td>0.652673</td>\n",
              "      <td>1</td>\n",
              "      <td>8.31</td>\n",
              "      <td>D</td>\n",
              "      <td>0.33</td>\n",
              "      <td>2.0</td>\n",
              "      <td>20</td>\n",
              "      <td>9999</td>\n",
              "      <td>46</td>\n",
              "      <td>5</td>\n",
              "      <td>254</td>\n",
              "      <td>3</td>\n",
              "      <td>0</td>\n",
              "    </tr>\n",
              "    <tr>\n",
              "      <th>754</th>\n",
              "      <td>0.585087</td>\n",
              "      <td>1</td>\n",
              "      <td>7.33</td>\n",
              "      <td>D</td>\n",
              "      <td>0.94</td>\n",
              "      <td>1.0</td>\n",
              "      <td>96</td>\n",
              "      <td>9999</td>\n",
              "      <td>95</td>\n",
              "      <td>6</td>\n",
              "      <td>574</td>\n",
              "      <td>9</td>\n",
              "      <td>0</td>\n",
              "    </tr>\n",
              "    <tr>\n",
              "      <th>825</th>\n",
              "      <td>0.410465</td>\n",
              "      <td>1</td>\n",
              "      <td>6.85</td>\n",
              "      <td>A</td>\n",
              "      <td>0.60</td>\n",
              "      <td>2.0</td>\n",
              "      <td>12</td>\n",
              "      <td>9999</td>\n",
              "      <td>47</td>\n",
              "      <td>4</td>\n",
              "      <td>555</td>\n",
              "      <td>6</td>\n",
              "      <td>0</td>\n",
              "    </tr>\n",
              "    <tr>\n",
              "      <th>872</th>\n",
              "      <td>0.314373</td>\n",
              "      <td>0</td>\n",
              "      <td>6.73</td>\n",
              "      <td>D</td>\n",
              "      <td>0.03</td>\n",
              "      <td>9.0</td>\n",
              "      <td>31</td>\n",
              "      <td>9999</td>\n",
              "      <td>89</td>\n",
              "      <td>7</td>\n",
              "      <td>353</td>\n",
              "      <td>5</td>\n",
              "      <td>1</td>\n",
              "    </tr>\n",
              "    <tr>\n",
              "      <th>876</th>\n",
              "      <td>0.073290</td>\n",
              "      <td>1</td>\n",
              "      <td>0.11</td>\n",
              "      <td>B</td>\n",
              "      <td>0.12</td>\n",
              "      <td>9.0</td>\n",
              "      <td>87</td>\n",
              "      <td>9999</td>\n",
              "      <td>72</td>\n",
              "      <td>3</td>\n",
              "      <td>759</td>\n",
              "      <td>0</td>\n",
              "      <td>0</td>\n",
              "    </tr>\n",
              "    <tr>\n",
              "      <th>962</th>\n",
              "      <td>0.141849</td>\n",
              "      <td>0</td>\n",
              "      <td>8.56</td>\n",
              "      <td>A</td>\n",
              "      <td>0.74</td>\n",
              "      <td>7.0</td>\n",
              "      <td>68</td>\n",
              "      <td>9999</td>\n",
              "      <td>33</td>\n",
              "      <td>5</td>\n",
              "      <td>445</td>\n",
              "      <td>3</td>\n",
              "      <td>0</td>\n",
              "    </tr>\n",
              "    <tr>\n",
              "      <th>965</th>\n",
              "      <td>0.303254</td>\n",
              "      <td>0</td>\n",
              "      <td>9.30</td>\n",
              "      <td>D</td>\n",
              "      <td>0.66</td>\n",
              "      <td>5.0</td>\n",
              "      <td>46</td>\n",
              "      <td>9999</td>\n",
              "      <td>67</td>\n",
              "      <td>5</td>\n",
              "      <td>828</td>\n",
              "      <td>9</td>\n",
              "      <td>0</td>\n",
              "    </tr>\n",
              "    <tr>\n",
              "      <th>969</th>\n",
              "      <td>0.078479</td>\n",
              "      <td>0</td>\n",
              "      <td>8.90</td>\n",
              "      <td>A</td>\n",
              "      <td>0.12</td>\n",
              "      <td>8.0</td>\n",
              "      <td>62</td>\n",
              "      <td>9999</td>\n",
              "      <td>11</td>\n",
              "      <td>4</td>\n",
              "      <td>145</td>\n",
              "      <td>8</td>\n",
              "      <td>0</td>\n",
              "    </tr>\n",
              "    <tr>\n",
              "      <th>977</th>\n",
              "      <td>0.816134</td>\n",
              "      <td>0</td>\n",
              "      <td>7.42</td>\n",
              "      <td>D</td>\n",
              "      <td>0.79</td>\n",
              "      <td>9.0</td>\n",
              "      <td>75</td>\n",
              "      <td>9999</td>\n",
              "      <td>55</td>\n",
              "      <td>5</td>\n",
              "      <td>849</td>\n",
              "      <td>5</td>\n",
              "      <td>0</td>\n",
              "    </tr>\n",
              "    <tr>\n",
              "      <th>994</th>\n",
              "      <td>0.888711</td>\n",
              "      <td>0</td>\n",
              "      <td>8.73</td>\n",
              "      <td>A</td>\n",
              "      <td>0.45</td>\n",
              "      <td>8.0</td>\n",
              "      <td>19</td>\n",
              "      <td>9999</td>\n",
              "      <td>92</td>\n",
              "      <td>3</td>\n",
              "      <td>434</td>\n",
              "      <td>6</td>\n",
              "      <td>0</td>\n",
              "    </tr>\n",
              "    <tr>\n",
              "      <th>996</th>\n",
              "      <td>0.501754</td>\n",
              "      <td>1</td>\n",
              "      <td>7.74</td>\n",
              "      <td>D</td>\n",
              "      <td>0.62</td>\n",
              "      <td>0.0</td>\n",
              "      <td>34</td>\n",
              "      <td>9999</td>\n",
              "      <td>53</td>\n",
              "      <td>3</td>\n",
              "      <td>160</td>\n",
              "      <td>7</td>\n",
              "      <td>0</td>\n",
              "    </tr>\n",
              "    <tr>\n",
              "      <th>1004</th>\n",
              "      <td>0.206102</td>\n",
              "      <td>1</td>\n",
              "      <td>5.43</td>\n",
              "      <td>D</td>\n",
              "      <td>0.83</td>\n",
              "      <td>6.0</td>\n",
              "      <td>21</td>\n",
              "      <td>9999</td>\n",
              "      <td>100</td>\n",
              "      <td>0</td>\n",
              "      <td>844</td>\n",
              "      <td>3</td>\n",
              "      <td>1</td>\n",
              "    </tr>\n",
              "    <tr>\n",
              "      <th>1007</th>\n",
              "      <td>0.212351</td>\n",
              "      <td>1</td>\n",
              "      <td>0.76</td>\n",
              "      <td>D</td>\n",
              "      <td>0.65</td>\n",
              "      <td>8.0</td>\n",
              "      <td>81</td>\n",
              "      <td>9999</td>\n",
              "      <td>87</td>\n",
              "      <td>6</td>\n",
              "      <td>970</td>\n",
              "      <td>4</td>\n",
              "      <td>0</td>\n",
              "    </tr>\n",
              "    <tr>\n",
              "      <th>1026</th>\n",
              "      <td>0.571060</td>\n",
              "      <td>0</td>\n",
              "      <td>6.79</td>\n",
              "      <td>D</td>\n",
              "      <td>0.24</td>\n",
              "      <td>2.0</td>\n",
              "      <td>56</td>\n",
              "      <td>9999</td>\n",
              "      <td>80</td>\n",
              "      <td>2</td>\n",
              "      <td>558</td>\n",
              "      <td>4</td>\n",
              "      <td>0</td>\n",
              "    </tr>\n",
              "    <tr>\n",
              "      <th>1058</th>\n",
              "      <td>0.071849</td>\n",
              "      <td>1</td>\n",
              "      <td>8.98</td>\n",
              "      <td>A</td>\n",
              "      <td>0.04</td>\n",
              "      <td>5.0</td>\n",
              "      <td>44</td>\n",
              "      <td>9999</td>\n",
              "      <td>60</td>\n",
              "      <td>3</td>\n",
              "      <td>413</td>\n",
              "      <td>4</td>\n",
              "      <td>1</td>\n",
              "    </tr>\n",
              "    <tr>\n",
              "      <th>1067</th>\n",
              "      <td>0.229043</td>\n",
              "      <td>1</td>\n",
              "      <td>8.58</td>\n",
              "      <td>B</td>\n",
              "      <td>0.87</td>\n",
              "      <td>8.0</td>\n",
              "      <td>0</td>\n",
              "      <td>9999</td>\n",
              "      <td>88</td>\n",
              "      <td>0</td>\n",
              "      <td>787</td>\n",
              "      <td>9</td>\n",
              "      <td>0</td>\n",
              "    </tr>\n",
              "    <tr>\n",
              "      <th>1091</th>\n",
              "      <td>0.551760</td>\n",
              "      <td>0</td>\n",
              "      <td>6.27</td>\n",
              "      <td>A</td>\n",
              "      <td>0.21</td>\n",
              "      <td>4.0</td>\n",
              "      <td>89</td>\n",
              "      <td>9999</td>\n",
              "      <td>74</td>\n",
              "      <td>1</td>\n",
              "      <td>178</td>\n",
              "      <td>0</td>\n",
              "      <td>0</td>\n",
              "    </tr>\n",
              "    <tr>\n",
              "      <th>1140</th>\n",
              "      <td>0.916080</td>\n",
              "      <td>0</td>\n",
              "      <td>0.74</td>\n",
              "      <td>A</td>\n",
              "      <td>0.32</td>\n",
              "      <td>7.0</td>\n",
              "      <td>2</td>\n",
              "      <td>9999</td>\n",
              "      <td>37</td>\n",
              "      <td>1</td>\n",
              "      <td>965</td>\n",
              "      <td>8</td>\n",
              "      <td>0</td>\n",
              "    </tr>\n",
              "    <tr>\n",
              "      <th>1155</th>\n",
              "      <td>0.022473</td>\n",
              "      <td>0</td>\n",
              "      <td>7.47</td>\n",
              "      <td>D</td>\n",
              "      <td>0.05</td>\n",
              "      <td>6.0</td>\n",
              "      <td>47</td>\n",
              "      <td>9999</td>\n",
              "      <td>45</td>\n",
              "      <td>3</td>\n",
              "      <td>907</td>\n",
              "      <td>5</td>\n",
              "      <td>1</td>\n",
              "    </tr>\n",
              "    <tr>\n",
              "      <th>1200</th>\n",
              "      <td>0.365479</td>\n",
              "      <td>1</td>\n",
              "      <td>5.08</td>\n",
              "      <td>D</td>\n",
              "      <td>0.44</td>\n",
              "      <td>6.0</td>\n",
              "      <td>21</td>\n",
              "      <td>9999</td>\n",
              "      <td>18</td>\n",
              "      <td>3</td>\n",
              "      <td>735</td>\n",
              "      <td>0</td>\n",
              "      <td>0</td>\n",
              "    </tr>\n",
              "    <tr>\n",
              "      <th>1244</th>\n",
              "      <td>0.792427</td>\n",
              "      <td>1</td>\n",
              "      <td>6.81</td>\n",
              "      <td>A</td>\n",
              "      <td>0.50</td>\n",
              "      <td>9.0</td>\n",
              "      <td>52</td>\n",
              "      <td>9999</td>\n",
              "      <td>33</td>\n",
              "      <td>4</td>\n",
              "      <td>927</td>\n",
              "      <td>8</td>\n",
              "      <td>0</td>\n",
              "    </tr>\n",
              "    <tr>\n",
              "      <th>1451</th>\n",
              "      <td>0.134296</td>\n",
              "      <td>1</td>\n",
              "      <td>7.58</td>\n",
              "      <td>D</td>\n",
              "      <td>0.81</td>\n",
              "      <td>4.0</td>\n",
              "      <td>95</td>\n",
              "      <td>9999</td>\n",
              "      <td>82</td>\n",
              "      <td>2</td>\n",
              "      <td>144</td>\n",
              "      <td>10</td>\n",
              "      <td>0</td>\n",
              "    </tr>\n",
              "  </tbody>\n",
              "</table>\n",
              "</div>\n",
              "      <button class=\"colab-df-convert\" onclick=\"convertToInteractive('df-ae702544-18e2-41a2-96c1-2018b7d89ffd')\"\n",
              "              title=\"Convert this dataframe to an interactive table.\"\n",
              "              style=\"display:none;\">\n",
              "        \n",
              "  <svg xmlns=\"http://www.w3.org/2000/svg\" height=\"24px\"viewBox=\"0 0 24 24\"\n",
              "       width=\"24px\">\n",
              "    <path d=\"M0 0h24v24H0V0z\" fill=\"none\"/>\n",
              "    <path d=\"M18.56 5.44l.94 2.06.94-2.06 2.06-.94-2.06-.94-.94-2.06-.94 2.06-2.06.94zm-11 1L8.5 8.5l.94-2.06 2.06-.94-2.06-.94L8.5 2.5l-.94 2.06-2.06.94zm10 10l.94 2.06.94-2.06 2.06-.94-2.06-.94-.94-2.06-.94 2.06-2.06.94z\"/><path d=\"M17.41 7.96l-1.37-1.37c-.4-.4-.92-.59-1.43-.59-.52 0-1.04.2-1.43.59L10.3 9.45l-7.72 7.72c-.78.78-.78 2.05 0 2.83L4 21.41c.39.39.9.59 1.41.59.51 0 1.02-.2 1.41-.59l7.78-7.78 2.81-2.81c.8-.78.8-2.07 0-2.86zM5.41 20L4 18.59l7.72-7.72 1.47 1.35L5.41 20z\"/>\n",
              "  </svg>\n",
              "      </button>\n",
              "      \n",
              "  <style>\n",
              "    .colab-df-container {\n",
              "      display:flex;\n",
              "      flex-wrap:wrap;\n",
              "      gap: 12px;\n",
              "    }\n",
              "\n",
              "    .colab-df-convert {\n",
              "      background-color: #E8F0FE;\n",
              "      border: none;\n",
              "      border-radius: 50%;\n",
              "      cursor: pointer;\n",
              "      display: none;\n",
              "      fill: #1967D2;\n",
              "      height: 32px;\n",
              "      padding: 0 0 0 0;\n",
              "      width: 32px;\n",
              "    }\n",
              "\n",
              "    .colab-df-convert:hover {\n",
              "      background-color: #E2EBFA;\n",
              "      box-shadow: 0px 1px 2px rgba(60, 64, 67, 0.3), 0px 1px 3px 1px rgba(60, 64, 67, 0.15);\n",
              "      fill: #174EA6;\n",
              "    }\n",
              "\n",
              "    [theme=dark] .colab-df-convert {\n",
              "      background-color: #3B4455;\n",
              "      fill: #D2E3FC;\n",
              "    }\n",
              "\n",
              "    [theme=dark] .colab-df-convert:hover {\n",
              "      background-color: #434B5C;\n",
              "      box-shadow: 0px 1px 3px 1px rgba(0, 0, 0, 0.15);\n",
              "      filter: drop-shadow(0px 1px 2px rgba(0, 0, 0, 0.3));\n",
              "      fill: #FFFFFF;\n",
              "    }\n",
              "  </style>\n",
              "\n",
              "      <script>\n",
              "        const buttonEl =\n",
              "          document.querySelector('#df-ae702544-18e2-41a2-96c1-2018b7d89ffd button.colab-df-convert');\n",
              "        buttonEl.style.display =\n",
              "          google.colab.kernel.accessAllowed ? 'block' : 'none';\n",
              "\n",
              "        async function convertToInteractive(key) {\n",
              "          const element = document.querySelector('#df-ae702544-18e2-41a2-96c1-2018b7d89ffd');\n",
              "          const dataTable =\n",
              "            await google.colab.kernel.invokeFunction('convertToInteractive',\n",
              "                                                     [key], {});\n",
              "          if (!dataTable) return;\n",
              "\n",
              "          const docLinkHtml = 'Like what you see? Visit the ' +\n",
              "            '<a target=\"_blank\" href=https://colab.research.google.com/notebooks/data_table.ipynb>data table notebook</a>'\n",
              "            + ' to learn more about interactive tables.';\n",
              "          element.innerHTML = '';\n",
              "          dataTable['output_type'] = 'display_data';\n",
              "          await google.colab.output.renderOutput(dataTable, element);\n",
              "          const docLink = document.createElement('div');\n",
              "          docLink.innerHTML = docLinkHtml;\n",
              "          element.appendChild(docLink);\n",
              "        }\n",
              "      </script>\n",
              "    </div>\n",
              "  </div>\n",
              "  "
            ]
          },
          "metadata": {},
          "execution_count": 9
        }
      ]
    },
    {
      "cell_type": "code",
      "source": [
        "# Now lets remove the outliers from the dataset\n",
        "df.drop(df[(df.Feat7 > upperbound) | (df.Feat7 < lowerbound) ].index , inplace=True)"
      ],
      "metadata": {
        "id": "Pv_2zUlhpPAH"
      },
      "execution_count": 10,
      "outputs": []
    },
    {
      "cell_type": "code",
      "source": [
        "# Remove some warnings\n",
        "import warnings\n",
        "warnings.filterwarnings('ignore')\n",
        "\n",
        "df_s = df.drop(['Feat3'], axis=1)\n",
        "\n",
        "# Features density distribution \n",
        "fig, ax = plt.subplots(3, 4, figsize=(20, 10))\n",
        "\n",
        "for i in range(ax.shape[0]):\n",
        "    for j in range(ax.shape[1]):\n",
        "        sns.distplot(df_s[df_s.columns[i*4+j]], ax=ax[i][j])"
      ],
      "metadata": {
        "colab": {
          "base_uri": "https://localhost:8080/",
          "height": 0
        },
        "id": "1c4M5rC-I9UK",
        "outputId": "cc402ea2-df40-4228-d824-d13df864bbc6"
      },
      "execution_count": 11,
      "outputs": [
        {
          "output_type": "display_data",
          "data": {
            "text/plain": [
              "<Figure size 1440x720 with 12 Axes>"
            ],
            "image/png": "[encoded data removed]"
          },
          "metadata": {
            "needs_background": "light"
          }
        }
      ]
    },
    {
      "cell_type": "markdown",
      "source": [
        "####**Data Splitting**"
      ],
      "metadata": {
        "id": "0w20mWvIauuQ"
      }
    },
    {
      "cell_type": "code",
      "source": [
        "# Divide the dataset into Dependent & Independent variable\n",
        "X = df.drop(['target'], axis=1)\n",
        "y = df.target"
      ],
      "metadata": {
        "id": "eL8KyVF_apEh"
      },
      "execution_count": 12,
      "outputs": []
    },
    {
      "cell_type": "code",
      "source": [
        "# Create a validation dataset\n",
        "from sklearn.model_selection import train_test_split\n",
        "X_train, X_test, y_train, y_test = train_test_split(X, y, test_size=0.2, random_state=42)"
      ],
      "metadata": {
        "id": "Qoj0K8w_aXW-"
      },
      "execution_count": 13,
      "outputs": []
    },
    {
      "cell_type": "markdown",
      "source": [
        "#### **Resampling Technique - oversampling**"
      ],
      "metadata": {
        "id": "cTY9u8AO89Sx"
      }
    },
    {
      "cell_type": "code",
      "source": [
        "# import library\n",
        "from imblearn.over_sampling import RandomOverSampler\n",
        "from collections import Counter\n",
        "\n",
        "ros = RandomOverSampler(random_state=42)\n",
        "\n",
        "# fit predictor and target variable\n",
        "print('Original dataset shape', Counter(y_train))\n",
        "X_train, y_train = ros.fit_resample(X_train, y_train)\n",
        "print('Resample dataset shape', Counter(y_train))"
      ],
      "metadata": {
        "colab": {
          "base_uri": "https://localhost:8080/"
        },
        "id": "Po0B_zHGtCu2",
        "outputId": "c5db89b4-ef9b-4514-82d4-d3d091136c82"
      },
      "execution_count": 14,
      "outputs": [
        {
          "output_type": "stream",
          "name": "stdout",
          "text": [
            "Original dataset shape Counter({0: 948, 1: 175})\n",
            "Resample dataset shape Counter({0: 948, 1: 948})\n"
          ]
        }
      ]
    },
    {
      "cell_type": "markdown",
      "source": [
        "####**Encoding Non-Numerical Input Data**"
      ],
      "metadata": {
        "id": "-xk8-LCca1or"
      }
    },
    {
      "cell_type": "code",
      "source": [
        "# One-hot encoding\n",
        "X_train = pd.get_dummies(X_train, columns = ['Feat3'])\n",
        "X_test = pd.get_dummies(X_test, columns = ['Feat3'])\n",
        "X_train.head()"
      ],
      "metadata": {
        "colab": {
          "base_uri": "https://localhost:8080/",
          "height": 0
        },
        "id": "BWaBLnyGMuc_",
        "outputId": "14591596-6ba4-4ab5-f752-5f563b72e5fc"
      },
      "execution_count": 15,
      "outputs": [
        {
          "output_type": "execute_result",
          "data": {
            "text/plain": [
              "      Feat0  Feat1  Feat2  Feat4  Feat5  Feat6  Feat7  Feat8  Feat9  Feat10  \\\n",
              "0  0.467667      1   6.47   0.26    1.0     12      0     61      1     914   \n",
              "1  0.503949      0   0.15   0.91    7.0     50      3     88      1     543   \n",
              "2  0.840302      1   0.86   0.36    3.0     31      1     30      4     732   \n",
              "3  0.228388      0   6.27   0.95    9.0      6      1     18      4     814   \n",
              "4  0.385112      1   5.69   0.51    8.0     88      1     32      4      36   \n",
              "\n",
              "   Feat11  Feat3_A  Feat3_B  Feat3_D  \n",
              "0       3        1        0        0  \n",
              "1       5        0        0        1  \n",
              "2       1        0        1        0  \n",
              "3       8        1        0        0  \n",
              "4       9        1        0        0  "
            ],
            "text/html": [
              "\n",
              "  <div id=\"df-517c2c47-52e5-4800-bd3e-8b48ed5d304b\">\n",
              "    <div class=\"colab-df-container\">\n",
              "      <div>\n",
              "<style scoped>\n",
              "    .dataframe tbody tr th:only-of-type {\n",
              "        vertical-align: middle;\n",
              "    }\n",
              "\n",
              "    .dataframe tbody tr th {\n",
              "        vertical-align: top;\n",
              "    }\n",
              "\n",
              "    .dataframe thead th {\n",
              "        text-align: right;\n",
              "    }\n",
              "</style>\n",
              "<table border=\"1\" class=\"dataframe\">\n",
              "  <thead>\n",
              "    <tr style=\"text-align: right;\">\n",
              "      <th></th>\n",
              "      <th>Feat0</th>\n",
              "      <th>Feat1</th>\n",
              "      <th>Feat2</th>\n",
              "      <th>Feat4</th>\n",
              "      <th>Feat5</th>\n",
              "      <th>Feat6</th>\n",
              "      <th>Feat7</th>\n",
              "      <th>Feat8</th>\n",
              "      <th>Feat9</th>\n",
              "      <th>Feat10</th>\n",
              "      <th>Feat11</th>\n",
              "      <th>Feat3_A</th>\n",
              "      <th>Feat3_B</th>\n",
              "      <th>Feat3_D</th>\n",
              "    </tr>\n",
              "  </thead>\n",
              "  <tbody>\n",
              "    <tr>\n",
              "      <th>0</th>\n",
              "      <td>0.467667</td>\n",
              "      <td>1</td>\n",
              "      <td>6.47</td>\n",
              "      <td>0.26</td>\n",
              "      <td>1.0</td>\n",
              "      <td>12</td>\n",
              "      <td>0</td>\n",
              "      <td>61</td>\n",
              "      <td>1</td>\n",
              "      <td>914</td>\n",
              "      <td>3</td>\n",
              "      <td>1</td>\n",
              "      <td>0</td>\n",
              "      <td>0</td>\n",
              "    </tr>\n",
              "    <tr>\n",
              "      <th>1</th>\n",
              "      <td>0.503949</td>\n",
              "      <td>0</td>\n",
              "      <td>0.15</td>\n",
              "      <td>0.91</td>\n",
              "      <td>7.0</td>\n",
              "      <td>50</td>\n",
              "      <td>3</td>\n",
              "      <td>88</td>\n",
              "      <td>1</td>\n",
              "      <td>543</td>\n",
              "      <td>5</td>\n",
              "      <td>0</td>\n",
              "      <td>0</td>\n",
              "      <td>1</td>\n",
              "    </tr>\n",
              "    <tr>\n",
              "      <th>2</th>\n",
              "      <td>0.840302</td>\n",
              "      <td>1</td>\n",
              "      <td>0.86</td>\n",
              "      <td>0.36</td>\n",
              "      <td>3.0</td>\n",
              "      <td>31</td>\n",
              "      <td>1</td>\n",
              "      <td>30</td>\n",
              "      <td>4</td>\n",
              "      <td>732</td>\n",
              "      <td>1</td>\n",
              "      <td>0</td>\n",
              "      <td>1</td>\n",
              "      <td>0</td>\n",
              "    </tr>\n",
              "    <tr>\n",
              "      <th>3</th>\n",
              "      <td>0.228388</td>\n",
              "      <td>0</td>\n",
              "      <td>6.27</td>\n",
              "      <td>0.95</td>\n",
              "      <td>9.0</td>\n",
              "      <td>6</td>\n",
              "      <td>1</td>\n",
              "      <td>18</td>\n",
              "      <td>4</td>\n",
              "      <td>814</td>\n",
              "      <td>8</td>\n",
              "      <td>1</td>\n",
              "      <td>0</td>\n",
              "      <td>0</td>\n",
              "    </tr>\n",
              "    <tr>\n",
              "      <th>4</th>\n",
              "      <td>0.385112</td>\n",
              "      <td>1</td>\n",
              "      <td>5.69</td>\n",
              "      <td>0.51</td>\n",
              "      <td>8.0</td>\n",
              "      <td>88</td>\n",
              "      <td>1</td>\n",
              "      <td>32</td>\n",
              "      <td>4</td>\n",
              "      <td>36</td>\n",
              "      <td>9</td>\n",
              "      <td>1</td>\n",
              "      <td>0</td>\n",
              "      <td>0</td>\n",
              "    </tr>\n",
              "  </tbody>\n",
              "</table>\n",
              "</div>\n",
              "      <button class=\"colab-df-convert\" onclick=\"convertToInteractive('df-517c2c47-52e5-4800-bd3e-8b48ed5d304b')\"\n",
              "              title=\"Convert this dataframe to an interactive table.\"\n",
              "              style=\"display:none;\">\n",
              "        \n",
              "  <svg xmlns=\"http://www.w3.org/2000/svg\" height=\"24px\"viewBox=\"0 0 24 24\"\n",
              "       width=\"24px\">\n",
              "    <path d=\"M0 0h24v24H0V0z\" fill=\"none\"/>\n",
              "    <path d=\"M18.56 5.44l.94 2.06.94-2.06 2.06-.94-2.06-.94-.94-2.06-.94 2.06-2.06.94zm-11 1L8.5 8.5l.94-2.06 2.06-.94-2.06-.94L8.5 2.5l-.94 2.06-2.06.94zm10 10l.94 2.06.94-2.06 2.06-.94-2.06-.94-.94-2.06-.94 2.06-2.06.94z\"/><path d=\"M17.41 7.96l-1.37-1.37c-.4-.4-.92-.59-1.43-.59-.52 0-1.04.2-1.43.59L10.3 9.45l-7.72 7.72c-.78.78-.78 2.05 0 2.83L4 21.41c.39.39.9.59 1.41.59.51 0 1.02-.2 1.41-.59l7.78-7.78 2.81-2.81c.8-.78.8-2.07 0-2.86zM5.41 20L4 18.59l7.72-7.72 1.47 1.35L5.41 20z\"/>\n",
              "  </svg>\n",
              "      </button>\n",
              "      \n",
              "  <style>\n",
              "    .colab-df-container {\n",
              "      display:flex;\n",
              "      flex-wrap:wrap;\n",
              "      gap: 12px;\n",
              "    }\n",
              "\n",
              "    .colab-df-convert {\n",
              "      background-color: #E8F0FE;\n",
              "      border: none;\n",
              "      border-radius: 50%;\n",
              "      cursor: pointer;\n",
              "      display: none;\n",
              "      fill: #1967D2;\n",
              "      height: 32px;\n",
              "      padding: 0 0 0 0;\n",
              "      width: 32px;\n",
              "    }\n",
              "\n",
              "    .colab-df-convert:hover {\n",
              "      background-color: #E2EBFA;\n",
              "      box-shadow: 0px 1px 2px rgba(60, 64, 67, 0.3), 0px 1px 3px 1px rgba(60, 64, 67, 0.15);\n",
              "      fill: #174EA6;\n",
              "    }\n",
              "\n",
              "    [theme=dark] .colab-df-convert {\n",
              "      background-color: #3B4455;\n",
              "      fill: #D2E3FC;\n",
              "    }\n",
              "\n",
              "    [theme=dark] .colab-df-convert:hover {\n",
              "      background-color: #434B5C;\n",
              "      box-shadow: 0px 1px 3px 1px rgba(0, 0, 0, 0.15);\n",
              "      filter: drop-shadow(0px 1px 2px rgba(0, 0, 0, 0.3));\n",
              "      fill: #FFFFFF;\n",
              "    }\n",
              "  </style>\n",
              "\n",
              "      <script>\n",
              "        const buttonEl =\n",
              "          document.querySelector('#df-517c2c47-52e5-4800-bd3e-8b48ed5d304b button.colab-df-convert');\n",
              "        buttonEl.style.display =\n",
              "          google.colab.kernel.accessAllowed ? 'block' : 'none';\n",
              "\n",
              "        async function convertToInteractive(key) {\n",
              "          const element = document.querySelector('#df-517c2c47-52e5-4800-bd3e-8b48ed5d304b');\n",
              "          const dataTable =\n",
              "            await google.colab.kernel.invokeFunction('convertToInteractive',\n",
              "                                                     [key], {});\n",
              "          if (!dataTable) return;\n",
              "\n",
              "          const docLinkHtml = 'Like what you see? Visit the ' +\n",
              "            '<a target=\"_blank\" href=https://colab.research.google.com/notebooks/data_table.ipynb>data table notebook</a>'\n",
              "            + ' to learn more about interactive tables.';\n",
              "          element.innerHTML = '';\n",
              "          dataTable['output_type'] = 'display_data';\n",
              "          await google.colab.output.renderOutput(dataTable, element);\n",
              "          const docLink = document.createElement('div');\n",
              "          docLink.innerHTML = docLinkHtml;\n",
              "          element.appendChild(docLink);\n",
              "        }\n",
              "      </script>\n",
              "    </div>\n",
              "  </div>\n",
              "  "
            ]
          },
          "metadata": {},
          "execution_count": 15
        }
      ]
    },
    {
      "cell_type": "code",
      "source": [
        "features = X_train.columns.values.tolist()"
      ],
      "metadata": {
        "id": "TkELcZhEvKDk"
      },
      "execution_count": 16,
      "outputs": []
    },
    {
      "cell_type": "markdown",
      "source": [
        "####**Feature Scaling**"
      ],
      "metadata": {
        "id": "Xfk8fm6fyHbu"
      }
    },
    {
      "cell_type": "code",
      "source": [
        "# Remove some warnings\n",
        "import warnings\n",
        "warnings.filterwarnings('ignore')\n",
        "\n",
        "# Copy the df with no tahet\n",
        "df_s = df.drop(['Feat3'], axis=1)\n",
        "\n",
        "# Features density distribution \n",
        "fig, ax = plt.subplots(3, 4, figsize=(20, 10))\n",
        "\n",
        "for i in range(ax.shape[0]):\n",
        "    for j in range(ax.shape[1]):\n",
        "        sns.distplot(df_s[df_s.columns[i*4+j]], ax=ax[i][j])"
      ],
      "metadata": {
        "colab": {
          "base_uri": "https://localhost:8080/",
          "height": 0
        },
        "id": "QTfcg4U46Qsg",
        "outputId": "c1f73dc8-d5af-4906-93fb-2d21cf703d2c"
      },
      "execution_count": 17,
      "outputs": [
        {
          "output_type": "display_data",
          "data": {
            "text/plain": [
              "<Figure size 1440x720 with 12 Axes>"
            ],
            "image/png": "[encoded data removed]"
          },
          "metadata": {
            "needs_background": "light"
          }
        }
      ]
    },
    {
      "cell_type": "code",
      "source": [
        "# Feature Scaling\n",
        "from sklearn.preprocessing import MinMaxScaler\n",
        "sc = MinMaxScaler()\n",
        "\n",
        "X_train = sc.fit_transform(X_train)\n",
        "X_test = sc.transform(X_test)"
      ],
      "metadata": {
        "id": "9y1dmzbrXe8t"
      },
      "execution_count": 18,
      "outputs": []
    },
    {
      "cell_type": "markdown",
      "source": [
        "##**ML Models**"
      ],
      "metadata": {
        "id": "6zv5RRhUfA18"
      }
    },
    {
      "cell_type": "markdown",
      "source": [
        "####**Model Selection**"
      ],
      "metadata": {
        "id": "ufP0GE1HquRA"
      }
    },
    {
      "cell_type": "code",
      "source": [
        "from sklearn.svm import SVC\n",
        "from sklearn.model_selection import StratifiedKFold\n",
        "from sklearn.model_selection import cross_val_score\n",
        "from sklearn.linear_model import LogisticRegression\n",
        "from sklearn.tree import DecisionTreeClassifier\n",
        "from sklearn.ensemble import RandomForestClassifier\n",
        "\n",
        "# Spot Check Algorithms\n",
        "models = []\n",
        "models.append(('LR', LogisticRegression(solver='liblinear', multi_class='ovr')))\n",
        "models.append(('DTC', DecisionTreeClassifier()))\n",
        "models.append(('RFC', RandomForestClassifier()))\n",
        "models.append(('SVM', SVC(gamma='auto')))\n",
        "# evaluate each model in turn\n",
        "results = []\n",
        "names = []\n",
        "for name, model in models:\n",
        "\tkfold = StratifiedKFold(n_splits=10, random_state=1, shuffle=True)\n",
        "\tcv_results = cross_val_score(model, X_train, y_train, cv=kfold, scoring='accuracy')\n",
        "\tresults.append(cv_results)\n",
        "\tnames.append(name)\n",
        "\tprint('%s: %f (%f)' % (name, cv_results.mean(), cv_results.std()))"
      ],
      "metadata": {
        "colab": {
          "base_uri": "https://localhost:8080/"
        },
        "id": "mR9ix8OEpW4-",
        "outputId": "7519dc99-7e88-4749-8faa-a538f628d2aa"
      },
      "execution_count": 19,
      "outputs": [
        {
          "output_type": "stream",
          "name": "stdout",
          "text": [
            "LR: 0.802233 (0.022453)\n",
            "DTC: 0.988390 (0.009389)\n",
            "RFC: 0.982069 (0.013160)\n",
            "SVM: 0.821223 (0.015848)\n"
          ]
        }
      ]
    },
    {
      "cell_type": "markdown",
      "source": [
        "We can see that the box and whisker plots are squashed at the top of the range, with many evaluations achieving 100% accuracy, and some pushing down into the high 80% accuracies."
      ],
      "metadata": {
        "id": "OmHjOk0Aqqe3"
      }
    },
    {
      "cell_type": "code",
      "source": [
        "# Compare Algorithms\n",
        "pyplot.boxplot(results, labels=names)\n",
        "pyplot.title('Algorithm Comparison')\n",
        "pyplot.show()"
      ],
      "metadata": {
        "colab": {
          "base_uri": "https://localhost:8080/",
          "height": 0
        },
        "id": "UxxKl5gWp2VM",
        "outputId": "44cdd16b-2337-4b47-9c42-bb0e6b4f62d3"
      },
      "execution_count": 20,
      "outputs": [
        {
          "output_type": "display_data",
          "data": {
            "text/plain": [
              "<Figure size 432x288 with 1 Axes>"
            ],
            "image/png": "[encoded data removed]"
          },
          "metadata": {
            "needs_background": "light"
          }
        }
      ]
    },
    {
      "cell_type": "markdown",
      "source": [
        "####**1. Logisti Regression**"
      ],
      "metadata": {
        "id": "AU9UwGQLiP4H"
      }
    },
    {
      "cell_type": "code",
      "source": [
        "# Create the classifier and fit it to our training data\n",
        "logreg=LogisticRegression(solver='lbfgs', multi_class='auto')\n",
        "logreg.fit(X_train, y_train)  \n",
        "\n",
        "# Predict classes\n",
        "y_train_pred=logreg.predict(X_train)\n",
        "y_test_pred=logreg.predict(X_test)"
      ],
      "metadata": {
        "id": "6fzrP8fxiPhw"
      },
      "execution_count": 21,
      "outputs": []
    },
    {
      "cell_type": "code",
      "source": [
        "from sklearn.metrics import confusion_matrix\n",
        "from sklearn import metrics\n",
        "\n",
        "# Make a confusion matrix to evaluate the results\n",
        "cm1 = confusion_matrix(y_train, y_train_pred)\n",
        "cm2 = confusion_matrix(y_test, y_test_pred)\n",
        "\n",
        "labels=['0', '1']\n",
        "\n",
        "df_cm1=pd.DataFrame(cm1, columns=labels, index=labels)\n",
        "df_cm1.index.name='Actual'\n",
        "df_cm1.columns.name='Predicted'\n",
        "\n",
        "df_cm2=pd.DataFrame(cm2, columns=labels, index=labels)\n",
        "df_cm2.index.name='Actual'\n",
        "df_cm2.columns.name='Predicted'\n",
        "\n",
        "fig, [ax1,ax2] = plt.subplots(nrows=1, ncols=2,constrained_layout=True, figsize = (12,5))\n",
        "snFig=sns.heatmap(df_cm1, ax=ax1, cmap=\"Greens\", annot=True)\n",
        "snFig=sns.heatmap(df_cm2, ax=ax2, cmap=\"Oranges\", annot=True)\n",
        "ax1.title.set_text('Training Set')\n",
        "ax2.title.set_text('Test Set')\n",
        "\n",
        "# Calculate the accuracy\n",
        "print('Training Error Score '+str(1.0-metrics.accuracy_score(y_train,y_train_pred)))\n",
        "print('Test Error Score '+str(1.0-metrics.accuracy_score(y_test,y_test_pred)))"
      ],
      "metadata": {
        "colab": {
          "base_uri": "https://localhost:8080/",
          "height": 0
        },
        "id": "_za9F86SjDL6",
        "outputId": "ee44166b-f0a9-41d8-e08e-ae473b0ebea6"
      },
      "execution_count": 22,
      "outputs": [
        {
          "output_type": "stream",
          "name": "stdout",
          "text": [
            "Training Error Score 0.19198312236286919\n",
            "Test Error Score 0.23131672597864772\n"
          ]
        },
        {
          "output_type": "display_data",
          "data": {
            "text/plain": [
              "<Figure size 864x360 with 4 Axes>"
            ],
            "image/png": "[encoded data removed]"
          },
          "metadata": {
            "needs_background": "light"
          }
        }
      ]
    },
    {
      "cell_type": "markdown",
      "source": [
        "####**2. Decision Tree**"
      ],
      "metadata": {
        "id": "O3iAa7P1v63C"
      }
    },
    {
      "cell_type": "code",
      "source": [
        "from sklearn.tree import DecisionTreeClassifier\n",
        "from sklearn.metrics import confusion_matrix\n",
        "from sklearn import metrics\n",
        "\n",
        "\n",
        "# Create the classifier and fit it to our training data\n",
        "model_dt = DecisionTreeClassifier(random_state=22)\n",
        "model_dt.fit(X_train, y_train)\n",
        "\n",
        "# Predict classes\n",
        "y_trainPredict= model_dt.predict(X_train)\n",
        "y_testPredict= model_dt.predict(X_test)"
      ],
      "metadata": {
        "id": "WF6tRYxofIX-"
      },
      "execution_count": 23,
      "outputs": []
    },
    {
      "cell_type": "code",
      "source": [
        "from sklearn.metrics import confusion_matrix\n",
        "from sklearn.metrics import classification_report\n",
        "\n",
        "# Make a confusion matrix to evaluate the results\n",
        "cm1 = confusion_matrix(y_train, y_trainPredict)\n",
        "cm2 = confusion_matrix(y_test, y_testPredict)\n",
        "\n",
        "labels=['0', '1']\n",
        "\n",
        "df_cm1=pd.DataFrame(cm1, columns=labels, index=labels)\n",
        "df_cm1.index.name='Actual'\n",
        "df_cm1.columns.name='Predicted'\n",
        "\n",
        "df_cm2=pd.DataFrame(cm2, columns=labels, index=labels)\n",
        "df_cm2.index.name='Actual'\n",
        "df_cm2.columns.name='Predicted'\n",
        "\n",
        "fig, [ax1,ax2] = plt.subplots(nrows=1, ncols=2,constrained_layout=True, figsize = (12,5))\n",
        "snFig=sns.heatmap(df_cm1, ax=ax1, cmap=\"Greens\", annot=True)\n",
        "snFig=sns.heatmap(df_cm2, ax=ax2, cmap=\"Oranges\", annot=True)\n",
        "ax1.title.set_text('Training Set')\n",
        "ax2.title.set_text('Test Set')\n",
        "\n",
        "# Calculate the accuracy\n",
        "print('Training Error Score '+str(1.0-metrics.accuracy_score(y_train,y_trainPredict)))\n",
        "print('Test Error Score '+str(1.0-metrics.accuracy_score(y_test,y_testPredict)))\n",
        "print(classification_report(y_test,y_testPredict))"
      ],
      "metadata": {
        "colab": {
          "base_uri": "https://localhost:8080/",
          "height": 0
        },
        "id": "CjNt5Nm3xJLv",
        "outputId": "c6af8b7d-299f-4651-cee5-467d34854932"
      },
      "execution_count": 24,
      "outputs": [
        {
          "output_type": "stream",
          "name": "stdout",
          "text": [
            "Training Error Score 0.0\n",
            "Test Error Score 0.03558718861209964\n",
            "              precision    recall  f1-score   support\n",
            "\n",
            "           0       0.97      0.98      0.98       232\n",
            "           1       0.91      0.88      0.90        49\n",
            "\n",
            "    accuracy                           0.96       281\n",
            "   macro avg       0.94      0.93      0.94       281\n",
            "weighted avg       0.96      0.96      0.96       281\n",
            "\n"
          ]
        },
        {
          "output_type": "display_data",
          "data": {
            "text/plain": [
              "<Figure size 864x360 with 4 Axes>"
            ],
            "image/png": "[encoded data removed]"
          },
          "metadata": {
            "needs_background": "light"
          }
        }
      ]
    },
    {
      "cell_type": "markdown",
      "source": [
        "#### **3. Random forest**"
      ],
      "metadata": {
        "id": "AopxkzqoOUyj"
      }
    },
    {
      "cell_type": "code",
      "source": [
        "from sklearn.ensemble import RandomForestClassifier\n",
        "\n",
        "# Create the classifier and fit it to our training data\n",
        "model_rf = RandomForestClassifier(random_state=7, n_estimators=100)\n",
        "model_rf.fit(X_train, y_train)\n",
        "\n",
        "# Predict classes\n",
        "y_trainPredict= model_rf.predict(X_train)\n",
        "y_testPredict= model_rf.predict(X_test)"
      ],
      "metadata": {
        "id": "m6uzXjurx-aP"
      },
      "execution_count": 25,
      "outputs": []
    },
    {
      "cell_type": "code",
      "source": [
        "# Make a confusion matrix to evaluate the results\n",
        "cm1=confusion_matrix(y_train, y_trainPredict)\n",
        "cm2=confusion_matrix(y_test, y_testPredict)\n",
        "\n",
        "labels=['0','1']\n",
        "\n",
        "df_cm1=pd.DataFrame(cm1, columns=labels, index=labels)\n",
        "df_cm1.index.name='Actual'\n",
        "df_cm1.columns.name='Predicted'\n",
        "\n",
        "df_cm2=pd.DataFrame(cm2, columns=labels, index=labels)\n",
        "df_cm2.index.name='Actual'\n",
        "df_cm2.columns.name='Predicted'\n",
        "\n",
        "fig, [ax1,ax2] = plt.subplots(nrows=1, ncols=2,constrained_layout=True, figsize = (12,5))\n",
        "snFig=sns.heatmap(df_cm1, ax=ax1, cmap=\"Greens\", annot=True)\n",
        "snFig=sns.heatmap(df_cm2, ax=ax2, cmap=\"Oranges\", annot=True)\n",
        "ax1.title.set_text('Training Set')\n",
        "ax2.title.set_text('Test Set')\n",
        "\n",
        "# Calculate the accuracy\n",
        "print('Training Error Score '+str(1.0-metrics.accuracy_score(y_train,y_trainPredict)))\n",
        "print('Test Error Score '+str(1.0-metrics.accuracy_score(y_test,y_testPredict)))"
      ],
      "metadata": {
        "colab": {
          "base_uri": "https://localhost:8080/",
          "height": 0
        },
        "id": "8q2uOFRfyfpS",
        "outputId": "8766c927-271d-4154-84e3-4c1a6776b6ae"
      },
      "execution_count": 26,
      "outputs": [
        {
          "output_type": "stream",
          "name": "stdout",
          "text": [
            "Training Error Score 0.0\n",
            "Test Error Score 0.0462633451957295\n"
          ]
        },
        {
          "output_type": "display_data",
          "data": {
            "text/plain": [
              "<Figure size 864x360 with 4 Axes>"
            ],
            "image/png": "[encoded data removed]"
          },
          "metadata": {
            "needs_background": "light"
          }
        }
      ]
    },
    {
      "cell_type": "markdown",
      "source": [
        "#### **Feature Selection**"
      ],
      "metadata": {
        "id": "kieF-ZRDp8ku"
      }
    },
    {
      "cell_type": "code",
      "source": [
        "from sklearn.feature_selection import RFE\n",
        "from sklearn.pipeline import Pipeline\n",
        "from sklearn.model_selection import RepeatedStratifiedKFold\n",
        "from numpy import mean\n",
        "from numpy import std\n",
        "\n",
        "# get a list of models to evaluate\n",
        "def get_models():\n",
        "\tmodels = dict()\n",
        "\tfor i in range(2, 12):\n",
        "\t\trfe = RFE(estimator=DecisionTreeClassifier(), n_features_to_select=i)\n",
        "\t\tmodel = DecisionTreeClassifier()\n",
        "\t\tmodels[str(i)] = Pipeline(steps=[('s',rfe),('m',model)])\n",
        "\treturn models\n",
        " \n",
        "# evaluate a give model using cross-validation\n",
        "def evaluate_model(model, X_train, y_train):\n",
        "\tcv = RepeatedStratifiedKFold(n_splits=10, n_repeats=3, random_state=1)\n",
        "\tscores = cross_val_score(model, X_train, y_train, scoring='accuracy', cv=cv, n_jobs=-1, error_score='raise')\n",
        "\treturn scores\n",
        " \n",
        "# get the models to evaluate\n",
        "models = get_models()\n",
        "# evaluate the models and store results\n",
        "results, names = list(), list()\n",
        "for name, model in models.items():\n",
        "\tscores = evaluate_model(model, X_train, y_train)\n",
        "\tresults.append(scores)\n",
        "\tnames.append(name)\n",
        "\tprint('>%s %.3f (%.3f)' % (name, mean(scores), std(scores)))\n",
        "# plot model performance for comparison\n",
        "pyplot.boxplot(results, labels=names, showmeans=True)\n",
        "pyplot.show()"
      ],
      "metadata": {
        "colab": {
          "base_uri": "https://localhost:8080/",
          "height": 0
        },
        "id": "eUfTvEUep_VQ",
        "outputId": "2752457a-d7fa-4117-967a-27cb8668bb63"
      },
      "execution_count": 27,
      "outputs": [
        {
          "output_type": "stream",
          "name": "stdout",
          "text": [
            ">2 0.947 (0.013)\n",
            ">3 0.959 (0.014)\n",
            ">4 0.971 (0.013)\n",
            ">5 0.969 (0.010)\n",
            ">6 0.974 (0.008)\n",
            ">7 0.983 (0.010)\n",
            ">8 0.990 (0.009)\n",
            ">9 0.990 (0.008)\n",
            ">10 0.990 (0.008)\n",
            ">11 0.990 (0.008)\n"
          ]
        },
        {
          "output_type": "display_data",
          "data": {
            "text/plain": [
              "<Figure size 432x288 with 1 Axes>"
            ],
            "image/png": "[encoded data removed]"
          },
          "metadata": {
            "needs_background": "light"
          }
        }
      ]
    },
    {
      "cell_type": "code",
      "source": [
        "# report which features were selected by RFE\n",
        "from sklearn.datasets import make_classification\n",
        "from sklearn.feature_selection import RFE\n",
        "from sklearn.tree import DecisionTreeClassifier\n",
        "# define RFE\n",
        "rfe = RFE(estimator=DecisionTreeClassifier(), n_features_to_select=2)\n",
        "# fit RFE\n",
        "rfe.fit(X_train, y_train)\n",
        "# summarize all features\n",
        "for i in range(X_train.shape[1]):\n",
        "\tprint('Column: %d, Selected %s, Rank: %.3f' % (i, rfe.support_[i], rfe.ranking_[i]))"
      ],
      "metadata": {
        "colab": {
          "base_uri": "https://localhost:8080/"
        },
        "id": "CGscZEEDscg6",
        "outputId": "2555b770-d88c-488d-d877-1f1ce1f56bc5"
      },
      "execution_count": 28,
      "outputs": [
        {
          "output_type": "stream",
          "name": "stdout",
          "text": [
            "Column: 0, Selected False, Rank: 9.000\n",
            "Column: 1, Selected False, Rank: 13.000\n",
            "Column: 2, Selected True, Rank: 1.000\n",
            "Column: 3, Selected False, Rank: 6.000\n",
            "Column: 4, Selected False, Rank: 2.000\n",
            "Column: 5, Selected False, Rank: 8.000\n",
            "Column: 6, Selected False, Rank: 12.000\n",
            "Column: 7, Selected False, Rank: 3.000\n",
            "Column: 8, Selected False, Rank: 7.000\n",
            "Column: 9, Selected False, Rank: 4.000\n",
            "Column: 10, Selected True, Rank: 1.000\n",
            "Column: 11, Selected False, Rank: 11.000\n",
            "Column: 12, Selected False, Rank: 5.000\n",
            "Column: 13, Selected False, Rank: 10.000\n"
          ]
        }
      ]
    }
  ]
}